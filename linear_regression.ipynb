{
  "cells": [
    {
      "cell_type": "markdown",
      "metadata": {
        "id": "view-in-github",
        "colab_type": "text"
      },
      "source": [
        "<a href=\"https://colab.research.google.com/github/andreidinca98/tric_project/blob/linear_regression/linear_regression.ipynb\" target=\"_parent\"><img src=\"https://colab.research.google.com/assets/colab-badge.svg\" alt=\"Open In Colab\"/></a>"
      ]
    },
    {
      "cell_type": "code",
      "source": [
        "import pandas as pd\n",
        "from sklearn.model_selection import train_test_split\n",
        "from sklearn.preprocessing import OneHotEncoder, StandardScaler\n",
        "from sklearn.compose import ColumnTransformer\n",
        "from sklearn.pipeline import Pipeline\n",
        "from sklearn.linear_model import LinearRegression\n",
        "from sklearn.metrics import mean_squared_error\n",
        "\n",
        "\n",
        "data = pd.read_csv('terrorist-attacks new.csv')\n",
        "\n",
        "data = data[['Entity', 'Year', 'Terrorist attacks']]\n",
        "\n",
        "\n",
        "# separation into independent and dependent features\n",
        "X = data[['Entity', 'Year']]\n",
        "y = data['Terrorist attacks']\n",
        "\n",
        "# define preprocessing for categorical and numeric data\n",
        "preprocessor = ColumnTransformer([('onehot', OneHotEncoder(), ['Entity']),('scaler', StandardScaler(), ['Year'])],remainder='passthrough')\n",
        "\n",
        "# create a pipeline with preprocessing and the model\n",
        "model = Pipeline(steps=[('preprocessor', preprocessor),('regressor', LinearRegression())])\n",
        "\n",
        "# split into train and test set\n",
        "X_train, X_test, y_train, y_test = train_test_split(X, y, test_size=0.1, random_state=42)\n",
        "\n",
        "model.fit(X_train, y_train)\n",
        "\n",
        "y_pred = model.predict(X_test)\n",
        "\n",
        "mse = mean_squared_error(y_test, y_pred)\n",
        "print(f'Mean Squared Error: {mse}')\n",
        "\n",
        "example_input = pd.DataFrame({'Entity': ['Afghanistan'], 'Year': [2022]})\n",
        "example_prediction = model.predict(example_input)\n",
        "print(f'Predicted number of attacks: {example_prediction[0]}')\n"
      ],
      "metadata": {
        "colab": {
          "base_uri": "https://localhost:8080/"
        },
        "id": "iV7zzqfFWqDD",
        "outputId": "38830020-278a-4c72-a3ee-4f1390e064d7"
      },
      "execution_count": 15,
      "outputs": [
        {
          "output_type": "stream",
          "name": "stdout",
          "text": [
            "Mean Squared Error: 128133.77551217245\n",
            "Predicted number of attacks: 521.4998048950011\n"
          ]
        }
      ]
    }
  ],
  "metadata": {
    "colab": {
      "name": "Welcome To Colab",
      "provenance": [],
      "include_colab_link": true
    },
    "kernelspec": {
      "display_name": "Python 3",
      "name": "python3"
    }
  },
  "nbformat": 4,
  "nbformat_minor": 0
}