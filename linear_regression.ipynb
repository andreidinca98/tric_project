{
  "cells": [
    {
      "cell_type": "markdown",
      "metadata": {
        "id": "view-in-github",
        "colab_type": "text"
      },
      "source": [
        "<a href=\"https://colab.research.google.com/github/andreidinca98/tric_project/blob/linear_regression/linear_regression.ipynb\" target=\"_parent\"><img src=\"https://colab.research.google.com/assets/colab-badge.svg\" alt=\"Open In Colab\"/></a>"
      ]
    },
    {
      "cell_type": "code",
      "source": [
        "import pandas as pd\n",
        "\n",
        "from sklearn.model_selection import train_test_split\n",
        "\n",
        "from sklearn.preprocessing import OneHotEncoder\n",
        "\n",
        "from sklearn.compose import ColumnTransformer\n",
        "\n",
        "from sklearn.pipeline import Pipeline\n",
        "\n",
        "from sklearn.linear_model import LinearRegression\n",
        "\n",
        "from sklearn.metrics import mean_squared_error\n",
        "\n",
        "# Load the data\n",
        "\n",
        "data = pd.read_csv('terrorist-attacks new.csv')\n",
        "\n",
        "\n",
        "\n",
        "data = data[['Entity', 'Year', 'Terrorist attacks']]\n",
        "\n",
        "# Handle missing values if any\n",
        "\n",
        "data = data.dropna()\n",
        "\n",
        "# separation into independent and dependent features\n",
        "\n",
        "X = data[['Entity', 'Year']]\n",
        "\n",
        "y = data['Terrorist attacks']\n",
        "\n",
        "# convert into numbers using one hot encoding\n",
        "preprocessor = ColumnTransformer(transformers=[ ('onehot', OneHotEncoder(), ['Entity'])],remainder='passthrough')\n",
        "\n",
        "# create a pipeline with preprocessing and the model\n",
        "model = Pipeline(steps=[ ('preprocessor', preprocessor),('regressor', LinearRegression())])\n",
        "\n",
        "# splitting data into train and test set\n",
        "X_train, X_test, y_train, y_test = train_test_split(X, y, test_size=0.2, random_state=42)\n",
        "\n",
        "model.fit(X_train, y_train)\n",
        "\n",
        "y_pred = model.predict(X_test)\n",
        "\n",
        "# evaluation of the model\n",
        "mse = mean_squared_error(y_test, y_pred)\n",
        "\n",
        "print(f'Mean Squared Error: {mse}')\n",
        "\n",
        "\n",
        "example_input = pd.DataFrame({'Entity': ['Afghanistan'], 'Year': [2022]})\n",
        "\n",
        "example_prediction = model.predict(example_input)\n",
        "\n",
        "print(f'Predicted number of attacks: {example_prediction[0]}')\n",
        "\n"
      ],
      "metadata": {
        "colab": {
          "base_uri": "https://localhost:8080/"
        },
        "id": "iV7zzqfFWqDD",
        "outputId": "5a5a198c-9fc0-4cec-9020-a00de11e0212"
      },
      "execution_count": null,
      "outputs": [
        {
          "output_type": "stream",
          "name": "stdout",
          "text": [
            "Mean Squared Error: 164777.0272701154\n",
            "Predicted number of attacks: 536.1208389656922\n"
          ]
        }
      ]
    }
  ],
  "metadata": {
    "colab": {
      "name": "Welcome To Colab",
      "provenance": [],
      "include_colab_link": true
    },
    "kernelspec": {
      "display_name": "Python 3",
      "name": "python3"
    }
  },
  "nbformat": 4,
  "nbformat_minor": 0
}