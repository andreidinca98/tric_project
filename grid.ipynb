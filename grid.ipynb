{
  "cells": [
    {
      "cell_type": "markdown",
      "metadata": {
        "id": "view-in-github",
        "colab_type": "text"
      },
      "source": [
        "<a href=\"https://colab.research.google.com/github/andreidinca98/tric_project/blob/grid/grid.ipynb\" target=\"_parent\"><img src=\"https://colab.research.google.com/assets/colab-badge.svg\" alt=\"Open In Colab\"/></a>"
      ]
    },
    {
      "cell_type": "code",
      "source": [
        "import pandas as pd\n",
        "from sklearn.model_selection import train_test_split, GridSearchCV\n",
        "from sklearn.ensemble import RandomForestRegressor\n",
        "from sklearn.preprocessing import LabelEncoder, StandardScaler\n",
        "from sklearn.metrics import mean_squared_error, r2_score\n",
        "\n",
        "# Load the dataset\n",
        "file_path = 'terrorist-attacks new.csv'\n",
        "data = pd.read_csv(file_path)\n",
        "\n",
        "# Prepare the data\n",
        "data = data.rename(columns={'Entity': 'Country', 'Terrorist attacks': 'Attacks'})\n",
        "data = data[['Country', 'Year', 'Attacks']]  # Remove unnecessary columns\n",
        "\n",
        "# Encode the country names as numerical labels\n",
        "label_encoder = LabelEncoder()\n",
        "data['Country_encoded'] = label_encoder.fit_transform(data['Country'])\n",
        "\n",
        "# Define features (Country and Year) and target (Attacks)\n",
        "X = data[['Country_encoded', 'Year']]\n",
        "y = data['Attacks']\n",
        "\n",
        "# Manually normalize the data\n",
        "scaler = StandardScaler()\n",
        "X_scaled = scaler.fit_transform(X)\n",
        "\n",
        "# Split the data into training and testing sets\n",
        "X_train, X_test, y_train, y_test = train_test_split(X_scaled, y, test_size=0.1, random_state=42)\n",
        "\n",
        "# Define the Random Forest Regressor model\n",
        "model = RandomForestRegressor(random_state=42)\n",
        "\n",
        "# Define the hyperparameter grid\n",
        "param_grid = {\n",
        "    'n_estimators': [10, 20, 50, 100, 200, 500, 1000],           # Number of trees in the forest\n",
        "    'max_depth': [None, 10, 20, 30, 40, 50, 60],         # Maximum depth of the trees\n",
        "    'min_samples_split': [2, 5, 10, 15, 20, 25],         # Minimum number of samples required to split a node\n",
        "    'min_samples_leaf': [1, 2, 4, 6, 8, 10],           # Minimum number of samples required at each leaf node\n",
        "    'max_features': ['auto', 'sqrt'],        # Number of features to consider for the best split\n",
        "    'bootstrap': [True, False],              # Whether bootstrap samples are used when building trees\n",
        "}\n",
        "\n",
        "# Set up GridSearchCV to find the best hyperparameters\n",
        "grid_search = GridSearchCV(\n",
        "    estimator=model,\n",
        "    param_grid=param_grid,\n",
        "    scoring='neg_mean_squared_error',  # Use negative MSE for minimization\n",
        "    cv=5,                              # 5-fold cross-validation\n",
        "    verbose=2,                         # Display progress\n",
        "    n_jobs=-1                          # Use all available cores\n",
        ")\n",
        "\n",
        "# Fit the model using GridSearchCV\n",
        "grid_search.fit(X_train, y_train)\n",
        "\n",
        "# Get the best model, parameters, and score\n",
        "best_model = grid_search.best_estimator_\n",
        "best_params = grid_search.best_params_\n",
        "best_score = -grid_search.best_score_\n",
        "\n",
        "# Evaluate the best model on the test set\n",
        "y_pred = best_model.predict(X_test)\n",
        "mse = mean_squared_error(y_test, y_pred)\n",
        "r2 = r2_score(y_test, y_pred)\n",
        "\n",
        "# Print the results\n",
        "print(f\"Best Hyperparameters: {best_params}\")\n",
        "print(f\"Best Cross-Validated MSE: {best_score}\")\n",
        "print(f\"Test Set MSE: {mse}\")\n",
        "print(f\"R^2 Score on Test Set: {r2}\")"
      ],
      "metadata": {
        "id": "fTLlN7BuXbDq",
        "outputId": "dc309206-7bb7-4380-99db-d9a6c276b914",
        "colab": {
          "base_uri": "https://localhost:8080/"
        }
      },
      "execution_count": null,
      "outputs": [
        {
          "output_type": "stream",
          "name": "stdout",
          "text": [
            "Fitting 5 folds for each of 7056 candidates, totalling 35280 fits\n"
          ]
        },
        {
          "output_type": "stream",
          "name": "stderr",
          "text": [
            "/usr/local/lib/python3.10/dist-packages/joblib/externals/loky/process_executor.py:752: UserWarning: A worker stopped while some jobs were given to the executor. This can be caused by a too short worker timeout or by a memory leak.\n",
            "  warnings.warn(\n"
          ]
        }
      ]
    }
  ],
  "metadata": {
    "colab": {
      "name": "Welcome To Colab",
      "provenance": [],
      "include_colab_link": true
    },
    "kernelspec": {
      "display_name": "Python 3",
      "name": "python3"
    }
  },
  "nbformat": 4,
  "nbformat_minor": 0
}