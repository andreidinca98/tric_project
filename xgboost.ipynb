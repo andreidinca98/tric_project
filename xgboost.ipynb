{
  "cells": [
    {
      "cell_type": "markdown",
      "metadata": {
        "id": "view-in-github",
        "colab_type": "text"
      },
      "source": [
        "<a href=\"https://colab.research.google.com/github/andreidinca98/tric_project/blob/xgboost/xgboost.ipynb\" target=\"_parent\"><img src=\"https://colab.research.google.com/assets/colab-badge.svg\" alt=\"Open In Colab\"/></a>"
      ]
    },
    {
      "cell_type": "code",
      "source": [
        "import pandas as pd\n",
        "\n",
        "from sklearn.model_selection import train_test_split\n",
        "\n",
        "from sklearn.preprocessing import OneHotEncoder\n",
        "\n",
        "from sklearn.compose import ColumnTransformer\n",
        "\n",
        "from sklearn.pipeline import Pipeline\n",
        "\n",
        "from xgboost import XGBRegressor\n",
        "\n",
        "from sklearn.metrics import mean_squared_error\n",
        "\n",
        "# Load the data\n",
        "data = pd.read_csv('terrorist-attacks new.csv')\n",
        "\n",
        "# Select relevant columns\n",
        "data = data[['Entity', 'Year', 'Terrorist attacks']]\n",
        "\n",
        "# Handle missing values if any\n",
        "data = data.dropna()\n",
        "\n",
        "# Define features and target\n",
        "X = data[['Entity', 'Year']]\n",
        "y = data['Terrorist attacks']\n",
        "\n",
        "# convert into numbers using one hot encoding\n",
        "preprocessor = ColumnTransformer( transformers=[('onehot', OneHotEncoder(), ['Entity'])],remainder='passthrough')\n",
        "\n",
        "# create a pipeline with preprocessing and the model\n",
        "model = Pipeline(steps=[('preprocessor', preprocessor),('regressor', XGBRegressor(n_estimators=100, learning_rate=0.1, max_depth=3))])\n",
        "\n",
        "# splitting data into train and test set\n",
        "X_train, X_test, y_train, y_test = train_test_split(X, y, test_size=0.2, random_state=42)\n",
        "\n",
        "model.fit(X_train, y_train)\n",
        "\n",
        "y_pred = model.predict(X_test)\n",
        "\n",
        "# evaluation of the model\n",
        "mse = mean_squared_error(y_test, y_pred)\n",
        "\n",
        "print(f'Mean Squared Error: {mse}')\n",
        "\n",
        "example_input = pd.DataFrame({'Entity': ['Romania'], 'Year': [2025]})\n",
        "\n",
        "example_prediction = model.predict(example_input)\n",
        "\n",
        "print(f'Predicted number of attacks: {example_prediction[0]}')\n",
        "\n"
      ],
      "metadata": {
        "id": "iV7zzqfFWqDD",
        "outputId": "1788b962-e9fe-44f7-d9c0-02e834fb00a9",
        "colab": {
          "base_uri": "https://localhost:8080/"
        }
      },
      "execution_count": null,
      "outputs": [
        {
          "output_type": "stream",
          "name": "stdout",
          "text": [
            "Mean Squared Error: 28604.446454027853\n",
            "Predicted number of attacks: 38.98175811767578\n"
          ]
        }
      ]
    }
  ],
  "metadata": {
    "colab": {
      "name": "Welcome To Colab",
      "provenance": [],
      "include_colab_link": true
    },
    "kernelspec": {
      "display_name": "Python 3",
      "name": "python3"
    }
  },
  "nbformat": 4,
  "nbformat_minor": 0
}