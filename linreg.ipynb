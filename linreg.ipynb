{
  "cells": [
    {
      "cell_type": "markdown",
      "metadata": {
        "id": "view-in-github",
        "colab_type": "text"
      },
      "source": [
        "<a href=\"https://colab.research.google.com/github/andreidinca98/tric_project/blob/main/linreg.ipynb\" target=\"_parent\"><img src=\"https://colab.research.google.com/assets/colab-badge.svg\" alt=\"Open In Colab\"/></a>"
      ]
    },
    {
      "cell_type": "code",
      "source": [
        "import pandas as pd\n",
        "\n",
        "from sklearn.model_selection import train_test_split\n",
        "\n",
        "from sklearn.linear_model import LinearRegression\n",
        "\n",
        "from sklearn.metrics import mean_squared_error\n",
        "\n",
        "from sklearn.preprocessing import OneHotEncoder\n",
        "\n",
        "from sklearn.compose import ColumnTransformer\n",
        "\n",
        "from sklearn.pipeline import Pipeline\n",
        "\n",
        "# Citirea datelor din fișierul CSV\n",
        "\n",
        "file_path = 'terrorist-attacks new.csv'  # Înlocuiește cu calea către fișierul tău CSV\n",
        "\n",
        "data = pd.read_csv(file_path)\n",
        "\n",
        "# Preprocesarea datelor\n",
        "\n",
        "# Convertim coloanele 'Year' și 'Terrorist attacks' în tipuri numerice\n",
        "\n",
        "data['Year'] = pd.to_numeric(data['Year'], errors='coerce')\n",
        "\n",
        "data['Terrorist attacks'] = pd.to_numeric(data['Terrorist attacks'], errors='coerce')\n",
        "\n",
        "# Eliminăm rândurile cu valori lipsă\n",
        "\n",
        "data = data.dropna()\n",
        "\n",
        "# Selectăm caracteristicile (features) și eticheta (label)\n",
        "\n",
        "X = data[['Entity', 'Year']]  # Caracteristicile sunt țara și anul\n",
        "\n",
        "y = data['Terrorist attacks']  # Eticheta este numărul de atacuri teroriste\n",
        "\n",
        "# Codificarea variabilelor categoriale folosind One-Hot Encoding\n",
        "\n",
        "column_transformer = ColumnTransformer( transformers=[('encoder', OneHotEncoder(), ['Entity']) ],remainder='passthrough'\n",
        "\n",
        ")\n",
        "\n",
        "# Crearea pipeline-ului pentru preprocesare și model\n",
        "\n",
        "pipeline = Pipeline(steps=[('preprocessor', column_transformer),('regressor', LinearRegression())])\n",
        "\n",
        "# Împărțirea datelor în seturi de antrenament și testare\n",
        "\n",
        "X_train, X_test, y_train, y_test = train_test_split(X, y, test_size=0.2, random_state=42)\n",
        "\n",
        "# Antrenarea modelului\n",
        "\n",
        "pipeline.fit(X_train, y_train)\n",
        "\n",
        "# Evaluarea modelului\n",
        "\n",
        "y_pred = pipeline.predict(X_test)\n",
        "\n",
        "mse = mean_squared_error(y_test, y_pred)\n",
        "\n",
        "print(f\"Mean Squared Error: {mse}\")\n",
        "\n",
        "# Funcție pentru a face predicții\n",
        "\n",
        "\n",
        "\n",
        ""
      ],
      "metadata": {
        "id": "fcz-7f0HC9cN",
        "outputId": "10b0322b-b690-4b44-bf48-3f48988690a5",
        "colab": {
          "base_uri": "https://localhost:8080/"
        }
      },
      "execution_count": 20,
      "outputs": [
        {
          "output_type": "stream",
          "name": "stdout",
          "text": [
            "Mean Squared Error: 115197.94392545872\n"
          ]
        }
      ]
    },
    {
      "cell_type": "code",
      "source": [
        "# country_input = input(\"Enter the country: \")\n",
        "# year_input = int(input(\"Enter the year: \"))\n",
        "\n",
        "# # Encode the input country\n",
        "# if country_input not in column_transformer.inverse_transform():\n",
        "#     print(\"Country not found in dataset.\")\n",
        "# else:\n",
        "#     country_encoded = label_encoder.transform([country_input])[0]\n",
        "\n",
        "#     user_features = scaler.transform([[country_encoded, year_input]])\n",
        "\n",
        "#     prediction = int(model.predict(user_features))\n",
        "#     print(f\"Predicted number of terrorist attacks in {country_input} ({year_input}): {prediction}\")\n",
        "# Input from user\n",
        "one_hot_encoder=OneHotEncoder()\n",
        "country_input = input(\"Enter the country: \")\n",
        "year_input = int(input(\"Enter the year: \"))\n",
        "# Check if country exists\n",
        "if country_input not in one_hot_encoder.categories_[0]:\n",
        "    print(\"Country not found in dataset.\")\n",
        "\n",
        "# else:\n",
        "#     # One-Hot Encode the input country\n",
        "#     country_index = one_hot_encoder.transform([[country_input]]).flatten()\n",
        "#     year_scaled_input = scaler.transform([[year_input]])\n",
        "#     # Combine the features for prediction\n",
        "#     user_features_input = pd.DataFrame([list(country_index) + list(year_scaled_input.flatten())])\n",
        "#     # Make prediction\n",
        "#     prediction = int(model.predict(user_features_input))\n",
        "#     print(f\"Predicted number of terrorist attacks in {country_input} ({year_input}): {prediction}\")\n",
        "else:\n",
        "    # Create input data for prediction\n",
        "    user_input = pd.DataFrame([[country_input, year_input]], columns=['Entity', 'Year'])\n",
        "\n",
        "    # Make prediction using the pipeline\n",
        "    prediction = int(pipeline.predict(user_input))\n",
        "\n",
        "    print(f\"Predicted number of terrorist attacks in {country_input} ({year_input}): {prediction}\")"
      ],
      "metadata": {
        "id": "oeootdt-Duy4",
        "outputId": "8d06beb6-0f91-409d-a763-04990f022c8a",
        "colab": {
          "base_uri": "https://localhost:8080/",
          "height": 245
        }
      },
      "execution_count": 21,
      "outputs": [
        {
          "name": "stdout",
          "output_type": "stream",
          "text": [
            "Enter the country: Romania\n",
            "Enter the year: 2024\n"
          ]
        },
        {
          "output_type": "error",
          "ename": "AttributeError",
          "evalue": "'OneHotEncoder' object has no attribute 'categories_'",
          "traceback": [
            "\u001b[0;31m---------------------------------------------------------------------------\u001b[0m",
            "\u001b[0;31mAttributeError\u001b[0m                            Traceback (most recent call last)",
            "\u001b[0;32m<ipython-input-21-eff44af0d956>\u001b[0m in \u001b[0;36m<cell line: 19>\u001b[0;34m()\u001b[0m\n\u001b[1;32m     17\u001b[0m \u001b[0myear_input\u001b[0m \u001b[0;34m=\u001b[0m \u001b[0mint\u001b[0m\u001b[0;34m(\u001b[0m\u001b[0minput\u001b[0m\u001b[0;34m(\u001b[0m\u001b[0;34m\"Enter the year: \"\u001b[0m\u001b[0;34m)\u001b[0m\u001b[0;34m)\u001b[0m\u001b[0;34m\u001b[0m\u001b[0;34m\u001b[0m\u001b[0m\n\u001b[1;32m     18\u001b[0m \u001b[0;31m# Check if country exists\u001b[0m\u001b[0;34m\u001b[0m\u001b[0;34m\u001b[0m\u001b[0m\n\u001b[0;32m---> 19\u001b[0;31m \u001b[0;32mif\u001b[0m \u001b[0mcountry_input\u001b[0m \u001b[0;32mnot\u001b[0m \u001b[0;32min\u001b[0m \u001b[0mone_hot_encoder\u001b[0m\u001b[0;34m.\u001b[0m\u001b[0mcategories_\u001b[0m\u001b[0;34m[\u001b[0m\u001b[0;36m0\u001b[0m\u001b[0;34m]\u001b[0m\u001b[0;34m:\u001b[0m\u001b[0;34m\u001b[0m\u001b[0;34m\u001b[0m\u001b[0m\n\u001b[0m\u001b[1;32m     20\u001b[0m     \u001b[0mprint\u001b[0m\u001b[0;34m(\u001b[0m\u001b[0;34m\"Country not found in dataset.\"\u001b[0m\u001b[0;34m)\u001b[0m\u001b[0;34m\u001b[0m\u001b[0;34m\u001b[0m\u001b[0m\n\u001b[1;32m     21\u001b[0m \u001b[0;34m\u001b[0m\u001b[0m\n",
            "\u001b[0;31mAttributeError\u001b[0m: 'OneHotEncoder' object has no attribute 'categories_'"
          ]
        }
      ]
    },
    {
      "cell_type": "code",
      "source": [],
      "metadata": {
        "id": "vFaOivmdKhPz"
      },
      "execution_count": null,
      "outputs": []
    },
    {
      "cell_type": "code",
      "source": [],
      "metadata": {
        "id": "Y_DvjQ-cKK-G"
      },
      "execution_count": null,
      "outputs": []
    }
  ],
  "metadata": {
    "colab": {
      "name": "Welcome To Colab",
      "provenance": [],
      "include_colab_link": true
    },
    "kernelspec": {
      "display_name": "Python 3",
      "name": "python3"
    }
  },
  "nbformat": 4,
  "nbformat_minor": 0
}